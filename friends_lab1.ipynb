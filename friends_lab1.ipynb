{
 "cells": [
  {
   "cell_type": "code",
   "execution_count": 1,
   "metadata": {},
   "outputs": [],
   "source": [
    "import numpy as np\n",
    "users =[\n",
    "    { \"id\":0, \"name\": \"Hero\" },\n",
    "    { \"id\":1, \"name\": \"Dunn\" },\n",
    "    { \"id\":2, \"name\": \"Sue\" },\n",
    "    { \"id\":3, \"name\": \"Chi\" },\n",
    "    { \"id\":4, \"name\": \"Thor\" },\n",
    "    { \"id\":5, \"name\": \"Clive\" },\n",
    "    { \"id\":6, \"name\": \"Hicks\" },\n",
    "    { \"id\":7, \"name\": \"Devin\" },\n",
    "    { \"id\":8, \"name\": \"Kate\" },\n",
    "    { \"id\":9, \"name\": \"Klein\" }    \n",
    "]\n",
    "\n",
    "friendship = [\n",
    "    (0, 1),\n",
    "    (0, 2),\n",
    "    (1, 2),\n",
    "    (1, 3),\n",
    "    (2, 3),\n",
    "    (3, 4),\n",
    "    (4, 5),\n",
    "    (5, 6),\n",
    "    (6, 7),\n",
    "    (6, 8),\n",
    "    (7, 8),\n",
    "    (8, 9)\n",
    "]"
   ]
  },
  {
   "cell_type": "code",
   "execution_count": 3,
   "metadata": {},
   "outputs": [],
   "source": [
    "def num_friends(user):\n",
    "    friends = 0\n",
    "    for a in friendship:\n",
    "        if int(user['id']) in a:\n",
    "            friends+=1\n",
    "    return friends"
   ]
  },
  {
   "cell_type": "code",
   "execution_count": 4,
   "metadata": {},
   "outputs": [],
   "source": [
    "def sort_by_num_friends():\n",
    "    for user in users:\n",
    "        friends = num_friends(user)\n",
    "        user['Number of friends'] = friends\n",
    "    sorted_list = (sorted(users, key = lambda i: i['Number of friends'], reverse = True))\n",
    "    return sorted_list"
   ]
  },
  {
   "cell_type": "code",
   "execution_count": 5,
   "metadata": {},
   "outputs": [
    {
     "name": "stdout",
     "output_type": "stream",
     "text": [
      "Total number of friends for Dunn is = 3\n",
      "Total number of friends for Sue is = 3\n",
      "Total number of friends for Chi is = 3\n",
      "Total number of friends for Hicks is = 3\n",
      "Total number of friends for Kate is = 3\n",
      "Total number of friends for Hero is = 2\n",
      "Total number of friends for Thor is = 2\n",
      "Total number of friends for Clive is = 2\n",
      "Total number of friends for Devin is = 2\n",
      "Total number of friends for Klein is = 1\n"
     ]
    }
   ],
   "source": [
    "result = sort_by_num_friends()\n",
    "for element in result :\n",
    "    print(\"Total number of friends for \"+ str(element['name'])+' '+\"is = \"+str(element['Number of friends']))"
   ]
  },
  {
   "cell_type": "code",
   "execution_count": null,
   "metadata": {},
   "outputs": [],
   "source": []
  }
 ],
 "metadata": {
  "kernelspec": {
   "display_name": "Python 3",
   "language": "python",
   "name": "python3"
  },
  "language_info": {
   "codemirror_mode": {
    "name": "ipython",
    "version": 3
   },
   "file_extension": ".py",
   "mimetype": "text/x-python",
   "name": "python",
   "nbconvert_exporter": "python",
   "pygments_lexer": "ipython3",
   "version": "3.6.6"
  }
 },
 "nbformat": 4,
 "nbformat_minor": 2
}
